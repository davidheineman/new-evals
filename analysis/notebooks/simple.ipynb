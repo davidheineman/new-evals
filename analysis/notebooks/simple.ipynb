version https://git-lfs.github.com/spec/v1
oid sha256:2b463415893d9bcbac6a707881929778f1dd8b04e5767fa7c077aa0607315d6c
size 3544438
