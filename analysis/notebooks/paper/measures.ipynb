version https://git-lfs.github.com/spec/v1
oid sha256:7718366275dd359f45c22e7f66be9dfdb5e59dfc4a1e280b722299cf65ae98a3
size 2313144
