version https://git-lfs.github.com/spec/v1
oid sha256:69b83ad4c5d2307dc9669d035e580617a1e59d3960fe7849f75af8bff02022b4
size 3899517
