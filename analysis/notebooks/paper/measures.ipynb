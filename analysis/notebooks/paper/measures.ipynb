version https://git-lfs.github.com/spec/v1
oid sha256:e1a68a7040a1be6eb6ca084b13150b1f9a0c7026fc9b226acd79c2dc97192f0f
size 2313400
