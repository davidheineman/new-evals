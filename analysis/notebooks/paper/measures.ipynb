version https://git-lfs.github.com/spec/v1
oid sha256:577f6ea96f5a5a9b704a449682fe6b6c78c48ce3a778dfaa769bb5a28c65d081
size 779204
