version https://git-lfs.github.com/spec/v1
oid sha256:12577a80eaf7a71704c51a4392370b0cc10105ebb1068e0186143c4e437732ad
size 910564
