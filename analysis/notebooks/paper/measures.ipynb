version https://git-lfs.github.com/spec/v1
oid sha256:fc7bcd24cebb66b5c2a601b75e8e3d3463f2e197b6c871211813daecabc7ba5d
size 1075788
