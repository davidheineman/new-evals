version https://git-lfs.github.com/spec/v1
oid sha256:8a65efc6620e1cc36ae7726f1ff5d13c55cc78b2a0955d34f693d87d7b3eb1fe
size 2316519
