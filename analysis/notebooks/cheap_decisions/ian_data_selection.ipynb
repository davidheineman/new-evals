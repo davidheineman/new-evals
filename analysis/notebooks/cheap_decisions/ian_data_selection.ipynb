version https://git-lfs.github.com/spec/v1
oid sha256:1e09094eb969e4282fa0ee26ea0a19b49cec4fb3219d9f32b2fa823b3ecb9dc1
size 1188822
