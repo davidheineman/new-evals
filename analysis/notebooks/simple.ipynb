version https://git-lfs.github.com/spec/v1
oid sha256:386332802e94e8364caca704a38db34c852ac203bb7a4d77c0ab30a9e3fa5d4b
size 1355708
