version https://git-lfs.github.com/spec/v1
oid sha256:9d16f73798c6b58b6a85f640884ca755cf7e6e94c94bf2f135c6435a95e7acca
size 603428
