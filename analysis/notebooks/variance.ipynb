version https://git-lfs.github.com/spec/v1
oid sha256:a177ca30d1580f77929a94c908fc0d713e366e4af75bcfa7e25ed1c003d3d604
size 2500566
