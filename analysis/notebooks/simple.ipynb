version https://git-lfs.github.com/spec/v1
oid sha256:6ca56fc860f2175e316af32b17003f06f877fa6dcdc5a8c48b4203d6a01fb592
size 1742686
