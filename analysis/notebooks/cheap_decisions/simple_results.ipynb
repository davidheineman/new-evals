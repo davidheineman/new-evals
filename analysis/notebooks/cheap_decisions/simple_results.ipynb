version https://git-lfs.github.com/spec/v1
oid sha256:f87523c2d3f00f4f02761d2464e0f489eccfcb326d85477b7d555de9d1cd36c9
size 429451
