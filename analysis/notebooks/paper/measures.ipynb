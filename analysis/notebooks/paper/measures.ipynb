version https://git-lfs.github.com/spec/v1
oid sha256:6cd251713a3b4ea681eea1d0b4717ec956555c7df8aac1154365131ca8f26508
size 2387261
