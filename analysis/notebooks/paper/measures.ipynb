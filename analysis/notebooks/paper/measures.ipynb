version https://git-lfs.github.com/spec/v1
oid sha256:b33b32710f90a8140b911f8805004d4b4f4ba42eb935acdfc4bbbd0db3836a67
size 3048041
