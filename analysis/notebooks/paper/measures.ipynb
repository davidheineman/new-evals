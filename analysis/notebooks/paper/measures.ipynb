version https://git-lfs.github.com/spec/v1
oid sha256:84aa2a9e97e1651995ef7dc244506a7ed4fb1931cab2b24a63778e9e534792bd
size 2570981
