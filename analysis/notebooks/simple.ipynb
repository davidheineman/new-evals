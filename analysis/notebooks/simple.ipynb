version https://git-lfs.github.com/spec/v1
oid sha256:3f4be538b9eab8b69aea2ab997359acb4b8ff65957aafa17033aa4e9a03a2c68
size 3608799
