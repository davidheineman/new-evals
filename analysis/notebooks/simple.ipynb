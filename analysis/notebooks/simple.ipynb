version https://git-lfs.github.com/spec/v1
oid sha256:e9087e55672412d0a2d772a256a2a6769ec69abe0d1f2fcb4903f3cd23fdfc9e
size 2622491
